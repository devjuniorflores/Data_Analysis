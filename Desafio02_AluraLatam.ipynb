{
  "nbformat": 4,
  "nbformat_minor": 0,
  "metadata": {
    "colab": {
      "provenance": []
    },
    "kernelspec": {
      "name": "python3",
      "display_name": "Python 3"
    },
    "language_info": {
      "name": "python"
    }
  },
  "cells": [
    {
      "cell_type": "markdown",
      "source": [
        "**Desafío**\n",
        "\n",
        "1. Promedio de área de todos los inmuebles en los barrios en el dataset. El top 10.\n",
        "\n",
        "2. Consultar otros datos estadísticos, conteo, mediana, valores mínimo y máximo."
      ],
      "metadata": {
        "id": "63cMYFqMIIuY"
      }
    },
    {
      "cell_type": "markdown",
      "source": [
        "###Recolectando la informacion necesaria  "
      ],
      "metadata": {
        "id": "gurJdXMRIcnQ"
      }
    },
    {
      "cell_type": "code",
      "source": [
        "from google.colab import drive\n",
        "drive.mount('/content/drive')  #Montando la carpeta de Mi Drive para asi extraer el archivo para el analisis"
      ],
      "metadata": {
        "colab": {
          "base_uri": "https://localhost:8080/"
        },
        "id": "Z2eGw9yZIdax",
        "outputId": "aea06025-55bb-4e2c-907d-a4fb22c5dfeb"
      },
      "execution_count": 97,
      "outputs": [
        {
          "output_type": "stream",
          "name": "stdout",
          "text": [
            "Drive already mounted at /content/drive; to attempt to forcibly remount, call drive.mount(\"/content/drive\", force_remount=True).\n"
          ]
        }
      ]
    },
    {
      "cell_type": "code",
      "source": [
        "import pandas as pd\n",
        "inmuebles = pd.read_csv('/content/drive/MyDrive/inmersion_datos/inmuebles_bogota.csv') #Asignando el dataset a una variable llamada \"inmuebles\""
      ],
      "metadata": {
        "id": "n3ZB6EkmIgD4"
      },
      "execution_count": 98,
      "outputs": []
    },
    {
      "cell_type": "code",
      "source": [
        "columnas = {'Baños':'Banos','Área':'Area'}\n",
        "inmuebles = inmuebles.rename(columns=columnas) #Asignando nuevos nombres a las columnas \n",
        "inmuebles.head(5)"
      ],
      "metadata": {
        "colab": {
          "base_uri": "https://localhost:8080/",
          "height": 206
        },
        "id": "GeluwfwZItZR",
        "outputId": "d0b1e69a-8999-4fc1-905d-874acf7ceb94"
      },
      "execution_count": 99,
      "outputs": [
        {
          "output_type": "execute_result",
          "data": {
            "text/plain": [
              "          Tipo                                 Descripcion  Habitaciones  \\\n",
              "0  Apartamento  Apartamento en venta en Zona Noroccidental             3   \n",
              "1         Casa                   Casa en venta en Castilla             4   \n",
              "2  Apartamento     Apartamento en venta en Chico Reservado             3   \n",
              "3  Apartamento             Apartamento en venta en Usaquén             3   \n",
              "4  Apartamento         Apartamento en venta en Bella Suiza             2   \n",
              "\n",
              "   Banos  Area              Barrio                                    UPZ  \\\n",
              "0      2    70  Zona Noroccidental     CHAPINERO: Pardo Rubio + Chapinero   \n",
              "1      3   170            Castilla            KENNEDY: Castilla + Bavaria   \n",
              "2      3   144     Chico Reservado     CHAPINERO: Chicó Lago + El Refugio   \n",
              "3      2   154             Usaquén                                Usaquén   \n",
              "4      3   128         Bella Suiza  USAQUÉN: Country Club + Santa Bárbara   \n",
              "\n",
              "             Valor  \n",
              "0    $ 360.000.000  \n",
              "1    $ 670.000.000  \n",
              "2  $ 1.120.000.000  \n",
              "3    $ 890.000.000  \n",
              "4    $ 970.000.000  "
            ],
            "text/html": [
              "\n",
              "  <div id=\"df-3ac1ef3f-21b6-40a5-9c78-2dd1f762b026\">\n",
              "    <div class=\"colab-df-container\">\n",
              "      <div>\n",
              "<style scoped>\n",
              "    .dataframe tbody tr th:only-of-type {\n",
              "        vertical-align: middle;\n",
              "    }\n",
              "\n",
              "    .dataframe tbody tr th {\n",
              "        vertical-align: top;\n",
              "    }\n",
              "\n",
              "    .dataframe thead th {\n",
              "        text-align: right;\n",
              "    }\n",
              "</style>\n",
              "<table border=\"1\" class=\"dataframe\">\n",
              "  <thead>\n",
              "    <tr style=\"text-align: right;\">\n",
              "      <th></th>\n",
              "      <th>Tipo</th>\n",
              "      <th>Descripcion</th>\n",
              "      <th>Habitaciones</th>\n",
              "      <th>Banos</th>\n",
              "      <th>Area</th>\n",
              "      <th>Barrio</th>\n",
              "      <th>UPZ</th>\n",
              "      <th>Valor</th>\n",
              "    </tr>\n",
              "  </thead>\n",
              "  <tbody>\n",
              "    <tr>\n",
              "      <th>0</th>\n",
              "      <td>Apartamento</td>\n",
              "      <td>Apartamento en venta en Zona Noroccidental</td>\n",
              "      <td>3</td>\n",
              "      <td>2</td>\n",
              "      <td>70</td>\n",
              "      <td>Zona Noroccidental</td>\n",
              "      <td>CHAPINERO: Pardo Rubio + Chapinero</td>\n",
              "      <td>$ 360.000.000</td>\n",
              "    </tr>\n",
              "    <tr>\n",
              "      <th>1</th>\n",
              "      <td>Casa</td>\n",
              "      <td>Casa en venta en Castilla</td>\n",
              "      <td>4</td>\n",
              "      <td>3</td>\n",
              "      <td>170</td>\n",
              "      <td>Castilla</td>\n",
              "      <td>KENNEDY: Castilla + Bavaria</td>\n",
              "      <td>$ 670.000.000</td>\n",
              "    </tr>\n",
              "    <tr>\n",
              "      <th>2</th>\n",
              "      <td>Apartamento</td>\n",
              "      <td>Apartamento en venta en Chico Reservado</td>\n",
              "      <td>3</td>\n",
              "      <td>3</td>\n",
              "      <td>144</td>\n",
              "      <td>Chico Reservado</td>\n",
              "      <td>CHAPINERO: Chicó Lago + El Refugio</td>\n",
              "      <td>$ 1.120.000.000</td>\n",
              "    </tr>\n",
              "    <tr>\n",
              "      <th>3</th>\n",
              "      <td>Apartamento</td>\n",
              "      <td>Apartamento en venta en Usaquén</td>\n",
              "      <td>3</td>\n",
              "      <td>2</td>\n",
              "      <td>154</td>\n",
              "      <td>Usaquén</td>\n",
              "      <td>Usaquén</td>\n",
              "      <td>$ 890.000.000</td>\n",
              "    </tr>\n",
              "    <tr>\n",
              "      <th>4</th>\n",
              "      <td>Apartamento</td>\n",
              "      <td>Apartamento en venta en Bella Suiza</td>\n",
              "      <td>2</td>\n",
              "      <td>3</td>\n",
              "      <td>128</td>\n",
              "      <td>Bella Suiza</td>\n",
              "      <td>USAQUÉN: Country Club + Santa Bárbara</td>\n",
              "      <td>$ 970.000.000</td>\n",
              "    </tr>\n",
              "  </tbody>\n",
              "</table>\n",
              "</div>\n",
              "      <button class=\"colab-df-convert\" onclick=\"convertToInteractive('df-3ac1ef3f-21b6-40a5-9c78-2dd1f762b026')\"\n",
              "              title=\"Convert this dataframe to an interactive table.\"\n",
              "              style=\"display:none;\">\n",
              "        \n",
              "  <svg xmlns=\"http://www.w3.org/2000/svg\" height=\"24px\"viewBox=\"0 0 24 24\"\n",
              "       width=\"24px\">\n",
              "    <path d=\"M0 0h24v24H0V0z\" fill=\"none\"/>\n",
              "    <path d=\"M18.56 5.44l.94 2.06.94-2.06 2.06-.94-2.06-.94-.94-2.06-.94 2.06-2.06.94zm-11 1L8.5 8.5l.94-2.06 2.06-.94-2.06-.94L8.5 2.5l-.94 2.06-2.06.94zm10 10l.94 2.06.94-2.06 2.06-.94-2.06-.94-.94-2.06-.94 2.06-2.06.94z\"/><path d=\"M17.41 7.96l-1.37-1.37c-.4-.4-.92-.59-1.43-.59-.52 0-1.04.2-1.43.59L10.3 9.45l-7.72 7.72c-.78.78-.78 2.05 0 2.83L4 21.41c.39.39.9.59 1.41.59.51 0 1.02-.2 1.41-.59l7.78-7.78 2.81-2.81c.8-.78.8-2.07 0-2.86zM5.41 20L4 18.59l7.72-7.72 1.47 1.35L5.41 20z\"/>\n",
              "  </svg>\n",
              "      </button>\n",
              "      \n",
              "  <style>\n",
              "    .colab-df-container {\n",
              "      display:flex;\n",
              "      flex-wrap:wrap;\n",
              "      gap: 12px;\n",
              "    }\n",
              "\n",
              "    .colab-df-convert {\n",
              "      background-color: #E8F0FE;\n",
              "      border: none;\n",
              "      border-radius: 50%;\n",
              "      cursor: pointer;\n",
              "      display: none;\n",
              "      fill: #1967D2;\n",
              "      height: 32px;\n",
              "      padding: 0 0 0 0;\n",
              "      width: 32px;\n",
              "    }\n",
              "\n",
              "    .colab-df-convert:hover {\n",
              "      background-color: #E2EBFA;\n",
              "      box-shadow: 0px 1px 2px rgba(60, 64, 67, 0.3), 0px 1px 3px 1px rgba(60, 64, 67, 0.15);\n",
              "      fill: #174EA6;\n",
              "    }\n",
              "\n",
              "    [theme=dark] .colab-df-convert {\n",
              "      background-color: #3B4455;\n",
              "      fill: #D2E3FC;\n",
              "    }\n",
              "\n",
              "    [theme=dark] .colab-df-convert:hover {\n",
              "      background-color: #434B5C;\n",
              "      box-shadow: 0px 1px 3px 1px rgba(0, 0, 0, 0.15);\n",
              "      filter: drop-shadow(0px 1px 2px rgba(0, 0, 0, 0.3));\n",
              "      fill: #FFFFFF;\n",
              "    }\n",
              "  </style>\n",
              "\n",
              "      <script>\n",
              "        const buttonEl =\n",
              "          document.querySelector('#df-3ac1ef3f-21b6-40a5-9c78-2dd1f762b026 button.colab-df-convert');\n",
              "        buttonEl.style.display =\n",
              "          google.colab.kernel.accessAllowed ? 'block' : 'none';\n",
              "\n",
              "        async function convertToInteractive(key) {\n",
              "          const element = document.querySelector('#df-3ac1ef3f-21b6-40a5-9c78-2dd1f762b026');\n",
              "          const dataTable =\n",
              "            await google.colab.kernel.invokeFunction('convertToInteractive',\n",
              "                                                     [key], {});\n",
              "          if (!dataTable) return;\n",
              "\n",
              "          const docLinkHtml = 'Like what you see? Visit the ' +\n",
              "            '<a target=\"_blank\" href=https://colab.research.google.com/notebooks/data_table.ipynb>data table notebook</a>'\n",
              "            + ' to learn more about interactive tables.';\n",
              "          element.innerHTML = '';\n",
              "          dataTable['output_type'] = 'display_data';\n",
              "          await google.colab.output.renderOutput(dataTable, element);\n",
              "          const docLink = document.createElement('div');\n",
              "          docLink.innerHTML = docLinkHtml;\n",
              "          element.appendChild(docLink);\n",
              "        }\n",
              "      </script>\n",
              "    </div>\n",
              "  </div>\n",
              "  "
            ]
          },
          "metadata": {},
          "execution_count": 99
        }
      ]
    },
    {
      "cell_type": "markdown",
      "source": [
        "###Desafío 1"
      ],
      "metadata": {
        "id": "jF0_V4OLIxdC"
      }
    },
    {
      "cell_type": "markdown",
      "source": [
        "###Estudiar mejor el histograma de valores, seleccionar 3 tipos de inmuebles (Refinar el gráfico: Títulos, aumentar el tamaño de labels, colores, conclusión de la información)"
      ],
      "metadata": {
        "id": "FjjtGSclI812"
      }
    },
    {
      "cell_type": "code",
      "source": [
        "valor = inmuebles.Valor.str.split(expand=True) \n",
        "inmuebles['Moneda'] = valor[0] \n",
        "inmuebles['Precio'] = valor[1] "
      ],
      "metadata": {
        "id": "9Pu9sF7MJp6G"
      },
      "execution_count": 100,
      "outputs": []
    },
    {
      "cell_type": "code",
      "source": [
        "inmuebles['Precio'] = inmuebles['Precio'].str.replace('.','',regex=True) "
      ],
      "metadata": {
        "id": "RLxBa6uiJsRf"
      },
      "execution_count": 101,
      "outputs": []
    },
    {
      "cell_type": "code",
      "source": [
        "inmuebles['Precio_Millon'] = inmuebles.Precio.astype('float')/1000000 "
      ],
      "metadata": {
        "id": "uzWRIt3oJvfw"
      },
      "execution_count": 102,
      "outputs": []
    },
    {
      "cell_type": "markdown",
      "source": [
        "###Crear un dataframe que solo contenga 3 tipos de inmuebles"
      ],
      "metadata": {
        "id": "eqIUsskVKGoK"
      }
    },
    {
      "cell_type": "code",
      "source": [
        "tipos_inmuebles = inmuebles[inmuebles.Tipo.isin(['Apartamento','Casa','Local'])]\n",
        "tipos_inmuebles.sample(10)"
      ],
      "metadata": {
        "colab": {
          "base_uri": "https://localhost:8080/",
          "height": 581
        },
        "id": "kYdINs7gKLLX",
        "outputId": "1900c35c-c74b-4647-b4bc-c9ec481d9657"
      },
      "execution_count": 103,
      "outputs": [
        {
          "output_type": "execute_result",
          "data": {
            "text/plain": [
              "             Tipo                                 Descripcion  Habitaciones  \\\n",
              "2942  Apartamento                Apartamento en venta en Bosa             3   \n",
              "3762  Apartamento       Apartamento en venta en Santa Barbara             1   \n",
              "3914  Apartamento  Apartamento en venta en Zona Noroccidental             3   \n",
              "1492         Casa              Casa en venta en San Cristobal             5   \n",
              "8203  Apartamento                Apartamento en venta en Bosa             2   \n",
              "2792  Apartamento                Apartamento en venta en Bosa             3   \n",
              "5798  Apartamento       Apartamento en venta en Puente Aranda             2   \n",
              "1981  Apartamento             Apartamento en venta en Usaquén             1   \n",
              "4250  Apartamento            Apartamento en venta en Engativa             3   \n",
              "2716  Apartamento            Apartamento en venta en Cedritos             1   \n",
              "\n",
              "      Banos  Area              Barrio  \\\n",
              "2942      2    52                Bosa   \n",
              "3762      1    48       Santa Barbara   \n",
              "3914      3   109  Zona Noroccidental   \n",
              "1492      2   274       San Cristobal   \n",
              "8203      1    42                Bosa   \n",
              "2792      1    48                Bosa   \n",
              "5798      3   134       Puente Aranda   \n",
              "1981      1    60             Usaquén   \n",
              "4250      1    53            Engativa   \n",
              "2716      2    46            Cedritos   \n",
              "\n",
              "                                                 UPZ            Valor Moneda  \\\n",
              "2942                                    Bosa Central    $ 155.000.000      $   \n",
              "3762           USAQUÉN: Country Club + Santa Bárbara    $ 270.000.000      $   \n",
              "3914              CHAPINERO: Pardo Rubio + Chapinero    $ 515.000.000      $   \n",
              "1492                                         Sosiego    $ 130.000.000      $   \n",
              "8203                                    Bosa Central    $ 135.000.000      $   \n",
              "2792                                    Bosa Central    $ 126.500.000      $   \n",
              "5798  PUENTE ARANDA: Zona Industrial + Puente Aranda  $ 1.040.000.000      $   \n",
              "1981                                         Usaquén    $ 828.400.000      $   \n",
              "4250                                        Engativá    $ 159.000.000      $   \n",
              "2716                                         Usaquén    $ 255.000.000      $   \n",
              "\n",
              "          Precio  Precio_Millon  \n",
              "2942   155000000         155.00  \n",
              "3762   270000000         270.00  \n",
              "3914   515000000         515.00  \n",
              "1492   130000000         130.00  \n",
              "8203   135000000         135.00  \n",
              "2792   126500000         126.50  \n",
              "5798  1040000000        1040.00  \n",
              "1981   828400000         828.40  \n",
              "4250   159000000         159.00  \n",
              "2716   255000000         255.00  "
            ],
            "text/html": [
              "\n",
              "  <div id=\"df-5dfcd7eb-75d3-47a2-ad07-4c912ad12f91\">\n",
              "    <div class=\"colab-df-container\">\n",
              "      <div>\n",
              "<style scoped>\n",
              "    .dataframe tbody tr th:only-of-type {\n",
              "        vertical-align: middle;\n",
              "    }\n",
              "\n",
              "    .dataframe tbody tr th {\n",
              "        vertical-align: top;\n",
              "    }\n",
              "\n",
              "    .dataframe thead th {\n",
              "        text-align: right;\n",
              "    }\n",
              "</style>\n",
              "<table border=\"1\" class=\"dataframe\">\n",
              "  <thead>\n",
              "    <tr style=\"text-align: right;\">\n",
              "      <th></th>\n",
              "      <th>Tipo</th>\n",
              "      <th>Descripcion</th>\n",
              "      <th>Habitaciones</th>\n",
              "      <th>Banos</th>\n",
              "      <th>Area</th>\n",
              "      <th>Barrio</th>\n",
              "      <th>UPZ</th>\n",
              "      <th>Valor</th>\n",
              "      <th>Moneda</th>\n",
              "      <th>Precio</th>\n",
              "      <th>Precio_Millon</th>\n",
              "    </tr>\n",
              "  </thead>\n",
              "  <tbody>\n",
              "    <tr>\n",
              "      <th>2942</th>\n",
              "      <td>Apartamento</td>\n",
              "      <td>Apartamento en venta en Bosa</td>\n",
              "      <td>3</td>\n",
              "      <td>2</td>\n",
              "      <td>52</td>\n",
              "      <td>Bosa</td>\n",
              "      <td>Bosa Central</td>\n",
              "      <td>$ 155.000.000</td>\n",
              "      <td>$</td>\n",
              "      <td>155000000</td>\n",
              "      <td>155.00</td>\n",
              "    </tr>\n",
              "    <tr>\n",
              "      <th>3762</th>\n",
              "      <td>Apartamento</td>\n",
              "      <td>Apartamento en venta en Santa Barbara</td>\n",
              "      <td>1</td>\n",
              "      <td>1</td>\n",
              "      <td>48</td>\n",
              "      <td>Santa Barbara</td>\n",
              "      <td>USAQUÉN: Country Club + Santa Bárbara</td>\n",
              "      <td>$ 270.000.000</td>\n",
              "      <td>$</td>\n",
              "      <td>270000000</td>\n",
              "      <td>270.00</td>\n",
              "    </tr>\n",
              "    <tr>\n",
              "      <th>3914</th>\n",
              "      <td>Apartamento</td>\n",
              "      <td>Apartamento en venta en Zona Noroccidental</td>\n",
              "      <td>3</td>\n",
              "      <td>3</td>\n",
              "      <td>109</td>\n",
              "      <td>Zona Noroccidental</td>\n",
              "      <td>CHAPINERO: Pardo Rubio + Chapinero</td>\n",
              "      <td>$ 515.000.000</td>\n",
              "      <td>$</td>\n",
              "      <td>515000000</td>\n",
              "      <td>515.00</td>\n",
              "    </tr>\n",
              "    <tr>\n",
              "      <th>1492</th>\n",
              "      <td>Casa</td>\n",
              "      <td>Casa en venta en San Cristobal</td>\n",
              "      <td>5</td>\n",
              "      <td>2</td>\n",
              "      <td>274</td>\n",
              "      <td>San Cristobal</td>\n",
              "      <td>Sosiego</td>\n",
              "      <td>$ 130.000.000</td>\n",
              "      <td>$</td>\n",
              "      <td>130000000</td>\n",
              "      <td>130.00</td>\n",
              "    </tr>\n",
              "    <tr>\n",
              "      <th>8203</th>\n",
              "      <td>Apartamento</td>\n",
              "      <td>Apartamento en venta en Bosa</td>\n",
              "      <td>2</td>\n",
              "      <td>1</td>\n",
              "      <td>42</td>\n",
              "      <td>Bosa</td>\n",
              "      <td>Bosa Central</td>\n",
              "      <td>$ 135.000.000</td>\n",
              "      <td>$</td>\n",
              "      <td>135000000</td>\n",
              "      <td>135.00</td>\n",
              "    </tr>\n",
              "    <tr>\n",
              "      <th>2792</th>\n",
              "      <td>Apartamento</td>\n",
              "      <td>Apartamento en venta en Bosa</td>\n",
              "      <td>3</td>\n",
              "      <td>1</td>\n",
              "      <td>48</td>\n",
              "      <td>Bosa</td>\n",
              "      <td>Bosa Central</td>\n",
              "      <td>$ 126.500.000</td>\n",
              "      <td>$</td>\n",
              "      <td>126500000</td>\n",
              "      <td>126.50</td>\n",
              "    </tr>\n",
              "    <tr>\n",
              "      <th>5798</th>\n",
              "      <td>Apartamento</td>\n",
              "      <td>Apartamento en venta en Puente Aranda</td>\n",
              "      <td>2</td>\n",
              "      <td>3</td>\n",
              "      <td>134</td>\n",
              "      <td>Puente Aranda</td>\n",
              "      <td>PUENTE ARANDA: Zona Industrial + Puente Aranda</td>\n",
              "      <td>$ 1.040.000.000</td>\n",
              "      <td>$</td>\n",
              "      <td>1040000000</td>\n",
              "      <td>1040.00</td>\n",
              "    </tr>\n",
              "    <tr>\n",
              "      <th>1981</th>\n",
              "      <td>Apartamento</td>\n",
              "      <td>Apartamento en venta en Usaquén</td>\n",
              "      <td>1</td>\n",
              "      <td>1</td>\n",
              "      <td>60</td>\n",
              "      <td>Usaquén</td>\n",
              "      <td>Usaquén</td>\n",
              "      <td>$ 828.400.000</td>\n",
              "      <td>$</td>\n",
              "      <td>828400000</td>\n",
              "      <td>828.40</td>\n",
              "    </tr>\n",
              "    <tr>\n",
              "      <th>4250</th>\n",
              "      <td>Apartamento</td>\n",
              "      <td>Apartamento en venta en Engativa</td>\n",
              "      <td>3</td>\n",
              "      <td>1</td>\n",
              "      <td>53</td>\n",
              "      <td>Engativa</td>\n",
              "      <td>Engativá</td>\n",
              "      <td>$ 159.000.000</td>\n",
              "      <td>$</td>\n",
              "      <td>159000000</td>\n",
              "      <td>159.00</td>\n",
              "    </tr>\n",
              "    <tr>\n",
              "      <th>2716</th>\n",
              "      <td>Apartamento</td>\n",
              "      <td>Apartamento en venta en Cedritos</td>\n",
              "      <td>1</td>\n",
              "      <td>2</td>\n",
              "      <td>46</td>\n",
              "      <td>Cedritos</td>\n",
              "      <td>Usaquén</td>\n",
              "      <td>$ 255.000.000</td>\n",
              "      <td>$</td>\n",
              "      <td>255000000</td>\n",
              "      <td>255.00</td>\n",
              "    </tr>\n",
              "  </tbody>\n",
              "</table>\n",
              "</div>\n",
              "      <button class=\"colab-df-convert\" onclick=\"convertToInteractive('df-5dfcd7eb-75d3-47a2-ad07-4c912ad12f91')\"\n",
              "              title=\"Convert this dataframe to an interactive table.\"\n",
              "              style=\"display:none;\">\n",
              "        \n",
              "  <svg xmlns=\"http://www.w3.org/2000/svg\" height=\"24px\"viewBox=\"0 0 24 24\"\n",
              "       width=\"24px\">\n",
              "    <path d=\"M0 0h24v24H0V0z\" fill=\"none\"/>\n",
              "    <path d=\"M18.56 5.44l.94 2.06.94-2.06 2.06-.94-2.06-.94-.94-2.06-.94 2.06-2.06.94zm-11 1L8.5 8.5l.94-2.06 2.06-.94-2.06-.94L8.5 2.5l-.94 2.06-2.06.94zm10 10l.94 2.06.94-2.06 2.06-.94-2.06-.94-.94-2.06-.94 2.06-2.06.94z\"/><path d=\"M17.41 7.96l-1.37-1.37c-.4-.4-.92-.59-1.43-.59-.52 0-1.04.2-1.43.59L10.3 9.45l-7.72 7.72c-.78.78-.78 2.05 0 2.83L4 21.41c.39.39.9.59 1.41.59.51 0 1.02-.2 1.41-.59l7.78-7.78 2.81-2.81c.8-.78.8-2.07 0-2.86zM5.41 20L4 18.59l7.72-7.72 1.47 1.35L5.41 20z\"/>\n",
              "  </svg>\n",
              "      </button>\n",
              "      \n",
              "  <style>\n",
              "    .colab-df-container {\n",
              "      display:flex;\n",
              "      flex-wrap:wrap;\n",
              "      gap: 12px;\n",
              "    }\n",
              "\n",
              "    .colab-df-convert {\n",
              "      background-color: #E8F0FE;\n",
              "      border: none;\n",
              "      border-radius: 50%;\n",
              "      cursor: pointer;\n",
              "      display: none;\n",
              "      fill: #1967D2;\n",
              "      height: 32px;\n",
              "      padding: 0 0 0 0;\n",
              "      width: 32px;\n",
              "    }\n",
              "\n",
              "    .colab-df-convert:hover {\n",
              "      background-color: #E2EBFA;\n",
              "      box-shadow: 0px 1px 2px rgba(60, 64, 67, 0.3), 0px 1px 3px 1px rgba(60, 64, 67, 0.15);\n",
              "      fill: #174EA6;\n",
              "    }\n",
              "\n",
              "    [theme=dark] .colab-df-convert {\n",
              "      background-color: #3B4455;\n",
              "      fill: #D2E3FC;\n",
              "    }\n",
              "\n",
              "    [theme=dark] .colab-df-convert:hover {\n",
              "      background-color: #434B5C;\n",
              "      box-shadow: 0px 1px 3px 1px rgba(0, 0, 0, 0.15);\n",
              "      filter: drop-shadow(0px 1px 2px rgba(0, 0, 0, 0.3));\n",
              "      fill: #FFFFFF;\n",
              "    }\n",
              "  </style>\n",
              "\n",
              "      <script>\n",
              "        const buttonEl =\n",
              "          document.querySelector('#df-5dfcd7eb-75d3-47a2-ad07-4c912ad12f91 button.colab-df-convert');\n",
              "        buttonEl.style.display =\n",
              "          google.colab.kernel.accessAllowed ? 'block' : 'none';\n",
              "\n",
              "        async function convertToInteractive(key) {\n",
              "          const element = document.querySelector('#df-5dfcd7eb-75d3-47a2-ad07-4c912ad12f91');\n",
              "          const dataTable =\n",
              "            await google.colab.kernel.invokeFunction('convertToInteractive',\n",
              "                                                     [key], {});\n",
              "          if (!dataTable) return;\n",
              "\n",
              "          const docLinkHtml = 'Like what you see? Visit the ' +\n",
              "            '<a target=\"_blank\" href=https://colab.research.google.com/notebooks/data_table.ipynb>data table notebook</a>'\n",
              "            + ' to learn more about interactive tables.';\n",
              "          element.innerHTML = '';\n",
              "          dataTable['output_type'] = 'display_data';\n",
              "          await google.colab.output.renderOutput(dataTable, element);\n",
              "          const docLink = document.createElement('div');\n",
              "          docLink.innerHTML = docLinkHtml;\n",
              "          element.appendChild(docLink);\n",
              "        }\n",
              "      </script>\n",
              "    </div>\n",
              "  </div>\n",
              "  "
            ]
          },
          "metadata": {},
          "execution_count": 103
        }
      ]
    },
    {
      "cell_type": "code",
      "source": [
        "import matplotlib.pyplot as plt \n",
        "import seaborn as sns\n",
        "\n",
        "plt.figure(figsize=(10,6)) \n",
        "grafica = sns.histplot(data=tipos_inmuebles, x='Precio_Millon',kde=True, hue='Tipo') \n",
        "plt.xlabel('Precio_Millon', fontsize=14,labelpad=10,fontstyle='italic', color='darkgreen',fontweight='bold')\n",
        "plt.ylabel('Cantidad_Inmuebles', fontsize=14,labelpad=10,fontstyle='italic', color='darkgreen',fontweight='bold')\n",
        "grafica.set_title('Distribución de Valores de los inmuebles de Tipo Apartamento, Casa y Local en Bogotá', fontsize=16, fontstyle='italic', fontweight='bold') \n",
        "plt.xlim((50,1000))\n",
        "plt.show() "
      ],
      "metadata": {
        "colab": {
          "base_uri": "https://localhost:8080/",
          "height": 417
        },
        "id": "VVYI_OYhI0So",
        "outputId": "6ddd5395-2179-44ff-9b23-96b54d3342a6"
      },
      "execution_count": 104,
      "outputs": [
        {
          "output_type": "display_data",
          "data": {
            "text/plain": [
              "<Figure size 720x432 with 1 Axes>"
            ],
            "image/png": "[encoded data removed]"
          },
          "metadata": {
            "needs_background": "light"
          }
        }
      ]
    },
    {
      "cell_type": "markdown",
      "source": [
        "Con este grafico podemos conocer un poco mejor la distribucion de los valores de los inmuebles por el tipo de inmueble en Bogotá, ya que nos permite identificar cuáles son los tipos de inmuebles que tienen un valor más alto y cuáles tienen un valor más bajo. Además, este gráfico puede ayudarnos a comprender si existe alguna relación entre el tipo de inmueble y su valor. Asimismo, también podemos identificar cuáles son los valores típicos (mediana o promedio) de cada tipo de inmueble, lo que nos puede dar una idea de cuál es el precio de mercado en general para cada categoría. En definitiva, este gráfico es una herramienta valiosa para entender mejor el mercado inmobiliario en Bogotá en términos de los diferentes tipos de inmuebles y puede ser de gran utilidad tanto para compradores como para vendedores en el proceso de toma de decisiones."
      ],
      "metadata": {
        "id": "yoN_EGNwR3xz"
      }
    },
    {
      "cell_type": "markdown",
      "source": [
        "###Desafio 2"
      ],
      "metadata": {
        "id": "LjCq7FKfTVaR"
      }
    },
    {
      "cell_type": "markdown",
      "source": [
        "Precio del m2 por barrio y hacer el gráfico más adecuado para esta nueva variable. (valor/m2)"
      ],
      "metadata": {
        "id": "EwpOpGehTfkS"
      }
    },
    {
      "cell_type": "code",
      "source": [
        "promedio_area_barrio = inmuebles.groupby('Barrio')['Area'].mean() \n",
        "promedio_area_barrio"
      ],
      "metadata": {
        "colab": {
          "base_uri": "https://localhost:8080/"
        },
        "id": "cZg6W1b0TU72",
        "outputId": "874b8d19-9ee8-4299-9a44-0764abb9879b"
      },
      "execution_count": 105,
      "outputs": [
        {
          "output_type": "execute_result",
          "data": {
            "text/plain": [
              "Barrio\n",
              "Alameda               97.00\n",
              "Alhambra             190.41\n",
              "Andes Norte          124.86\n",
              "Antonio Nariño       163.06\n",
              "Barrancas             70.20\n",
              "                      ...  \n",
              "Villa Maria          207.15\n",
              "Villas De Granada     86.59\n",
              "Villemar              76.89\n",
              "Zona Franca           54.00\n",
              "Zona Noroccidental   135.79\n",
              "Name: Area, Length: 149, dtype: float64"
            ]
          },
          "metadata": {},
          "execution_count": 105
        }
      ]
    },
    {
      "cell_type": "code",
      "source": [
        "promedio_valor_barrio = inmuebles.groupby('Barrio')['Precio_Millon'].mean()\n",
        "promedio_valor_barrio"
      ],
      "metadata": {
        "colab": {
          "base_uri": "https://localhost:8080/"
        },
        "id": "ER7-kVvTVpn_",
        "outputId": "7105a6f4-b652-48b5-b155-27a61226a768"
      },
      "execution_count": 106,
      "outputs": [
        {
          "output_type": "execute_result",
          "data": {
            "text/plain": [
              "Barrio\n",
              "Alameda              580.00\n",
              "Alhambra             752.35\n",
              "Andes Norte          709.57\n",
              "Antonio Nariño       459.22\n",
              "Barrancas            314.13\n",
              "                      ...  \n",
              "Villa Maria          402.85\n",
              "Villas De Granada    282.30\n",
              "Villemar             303.83\n",
              "Zona Franca          160.00\n",
              "Zona Noroccidental   620.81\n",
              "Name: Precio_Millon, Length: 149, dtype: float64"
            ]
          },
          "metadata": {},
          "execution_count": 106
        }
      ]
    },
    {
      "cell_type": "code",
      "source": [
        "inmuebles_precio_area = pd.concat([promedio_area_barrio, promedio_valor_barrio], axis=1)\n",
        "inmuebles_precio_area['Valor_m2'] = inmuebles_precio_area['Precio_Millon']/inmuebles_precio_area['Area']\n",
        "pd.set_option('display.precision',2) \n",
        "inmuebles_precio_area = inmuebles_precio_area.reset_index(col_level=0)\n",
        "inmuebles_precio_area = inmuebles_precio_area.rename(columns={'Barrio':'Barrio'})\n",
        "inmuebles_precio_area = inmuebles_precio_area.sort_values(by='Valor_m2', ascending=False)\n",
        "inmuebles_precio_area"
      ],
      "metadata": {
        "colab": {
          "base_uri": "https://localhost:8080/",
          "height": 424
        },
        "id": "LG8EAiMMWDRQ",
        "outputId": "6e332820-6383-4ec7-c8ba-af041669441f"
      },
      "execution_count": 107,
      "outputs": [
        {
          "output_type": "execute_result",
          "data": {
            "text/plain": [
              "            Barrio    Area  Precio_Millon  Valor_m2\n",
              "124      Santa Ana  309.38        3172.50     10.25\n",
              "49       El Virrey   93.83         931.67      9.93\n",
              "65   La Candelaria  173.72        1544.23      8.89\n",
              "70       La Merced   41.00         359.50      8.77\n",
              "40     El Castillo  134.25        1137.50      8.47\n",
              "..             ...     ...            ...       ...\n",
              "80      Las Ferias  320.00         550.00      1.72\n",
              "83      Libertador  642.00        1020.00      1.59\n",
              "116           Roma  260.00         350.00      1.35\n",
              "11   Bosa Piamonte  400.00         470.00      1.18\n",
              "92         Modelia 4316.75         705.47      0.16\n",
              "\n",
              "[149 rows x 4 columns]"
            ],
            "text/html": [
              "\n",
              "  <div id=\"df-5258c3e0-3ee8-413d-b69e-50ceafaccfac\">\n",
              "    <div class=\"colab-df-container\">\n",
              "      <div>\n",
              "<style scoped>\n",
              "    .dataframe tbody tr th:only-of-type {\n",
              "        vertical-align: middle;\n",
              "    }\n",
              "\n",
              "    .dataframe tbody tr th {\n",
              "        vertical-align: top;\n",
              "    }\n",
              "\n",
              "    .dataframe thead th {\n",
              "        text-align: right;\n",
              "    }\n",
              "</style>\n",
              "<table border=\"1\" class=\"dataframe\">\n",
              "  <thead>\n",
              "    <tr style=\"text-align: right;\">\n",
              "      <th></th>\n",
              "      <th>Barrio</th>\n",
              "      <th>Area</th>\n",
              "      <th>Precio_Millon</th>\n",
              "      <th>Valor_m2</th>\n",
              "    </tr>\n",
              "  </thead>\n",
              "  <tbody>\n",
              "    <tr>\n",
              "      <th>124</th>\n",
              "      <td>Santa Ana</td>\n",
              "      <td>309.38</td>\n",
              "      <td>3172.50</td>\n",
              "      <td>10.25</td>\n",
              "    </tr>\n",
              "    <tr>\n",
              "      <th>49</th>\n",
              "      <td>El Virrey</td>\n",
              "      <td>93.83</td>\n",
              "      <td>931.67</td>\n",
              "      <td>9.93</td>\n",
              "    </tr>\n",
              "    <tr>\n",
              "      <th>65</th>\n",
              "      <td>La Candelaria</td>\n",
              "      <td>173.72</td>\n",
              "      <td>1544.23</td>\n",
              "      <td>8.89</td>\n",
              "    </tr>\n",
              "    <tr>\n",
              "      <th>70</th>\n",
              "      <td>La Merced</td>\n",
              "      <td>41.00</td>\n",
              "      <td>359.50</td>\n",
              "      <td>8.77</td>\n",
              "    </tr>\n",
              "    <tr>\n",
              "      <th>40</th>\n",
              "      <td>El Castillo</td>\n",
              "      <td>134.25</td>\n",
              "      <td>1137.50</td>\n",
              "      <td>8.47</td>\n",
              "    </tr>\n",
              "    <tr>\n",
              "      <th>...</th>\n",
              "      <td>...</td>\n",
              "      <td>...</td>\n",
              "      <td>...</td>\n",
              "      <td>...</td>\n",
              "    </tr>\n",
              "    <tr>\n",
              "      <th>80</th>\n",
              "      <td>Las Ferias</td>\n",
              "      <td>320.00</td>\n",
              "      <td>550.00</td>\n",
              "      <td>1.72</td>\n",
              "    </tr>\n",
              "    <tr>\n",
              "      <th>83</th>\n",
              "      <td>Libertador</td>\n",
              "      <td>642.00</td>\n",
              "      <td>1020.00</td>\n",
              "      <td>1.59</td>\n",
              "    </tr>\n",
              "    <tr>\n",
              "      <th>116</th>\n",
              "      <td>Roma</td>\n",
              "      <td>260.00</td>\n",
              "      <td>350.00</td>\n",
              "      <td>1.35</td>\n",
              "    </tr>\n",
              "    <tr>\n",
              "      <th>11</th>\n",
              "      <td>Bosa Piamonte</td>\n",
              "      <td>400.00</td>\n",
              "      <td>470.00</td>\n",
              "      <td>1.18</td>\n",
              "    </tr>\n",
              "    <tr>\n",
              "      <th>92</th>\n",
              "      <td>Modelia</td>\n",
              "      <td>4316.75</td>\n",
              "      <td>705.47</td>\n",
              "      <td>0.16</td>\n",
              "    </tr>\n",
              "  </tbody>\n",
              "</table>\n",
              "<p>149 rows × 4 columns</p>\n",
              "</div>\n",
              "      <button class=\"colab-df-convert\" onclick=\"convertToInteractive('df-5258c3e0-3ee8-413d-b69e-50ceafaccfac')\"\n",
              "              title=\"Convert this dataframe to an interactive table.\"\n",
              "              style=\"display:none;\">\n",
              "        \n",
              "  <svg xmlns=\"http://www.w3.org/2000/svg\" height=\"24px\"viewBox=\"0 0 24 24\"\n",
              "       width=\"24px\">\n",
              "    <path d=\"M0 0h24v24H0V0z\" fill=\"none\"/>\n",
              "    <path d=\"M18.56 5.44l.94 2.06.94-2.06 2.06-.94-2.06-.94-.94-2.06-.94 2.06-2.06.94zm-11 1L8.5 8.5l.94-2.06 2.06-.94-2.06-.94L8.5 2.5l-.94 2.06-2.06.94zm10 10l.94 2.06.94-2.06 2.06-.94-2.06-.94-.94-2.06-.94 2.06-2.06.94z\"/><path d=\"M17.41 7.96l-1.37-1.37c-.4-.4-.92-.59-1.43-.59-.52 0-1.04.2-1.43.59L10.3 9.45l-7.72 7.72c-.78.78-.78 2.05 0 2.83L4 21.41c.39.39.9.59 1.41.59.51 0 1.02-.2 1.41-.59l7.78-7.78 2.81-2.81c.8-.78.8-2.07 0-2.86zM5.41 20L4 18.59l7.72-7.72 1.47 1.35L5.41 20z\"/>\n",
              "  </svg>\n",
              "      </button>\n",
              "      \n",
              "  <style>\n",
              "    .colab-df-container {\n",
              "      display:flex;\n",
              "      flex-wrap:wrap;\n",
              "      gap: 12px;\n",
              "    }\n",
              "\n",
              "    .colab-df-convert {\n",
              "      background-color: #E8F0FE;\n",
              "      border: none;\n",
              "      border-radius: 50%;\n",
              "      cursor: pointer;\n",
              "      display: none;\n",
              "      fill: #1967D2;\n",
              "      height: 32px;\n",
              "      padding: 0 0 0 0;\n",
              "      width: 32px;\n",
              "    }\n",
              "\n",
              "    .colab-df-convert:hover {\n",
              "      background-color: #E2EBFA;\n",
              "      box-shadow: 0px 1px 2px rgba(60, 64, 67, 0.3), 0px 1px 3px 1px rgba(60, 64, 67, 0.15);\n",
              "      fill: #174EA6;\n",
              "    }\n",
              "\n",
              "    [theme=dark] .colab-df-convert {\n",
              "      background-color: #3B4455;\n",
              "      fill: #D2E3FC;\n",
              "    }\n",
              "\n",
              "    [theme=dark] .colab-df-convert:hover {\n",
              "      background-color: #434B5C;\n",
              "      box-shadow: 0px 1px 3px 1px rgba(0, 0, 0, 0.15);\n",
              "      filter: drop-shadow(0px 1px 2px rgba(0, 0, 0, 0.3));\n",
              "      fill: #FFFFFF;\n",
              "    }\n",
              "  </style>\n",
              "\n",
              "      <script>\n",
              "        const buttonEl =\n",
              "          document.querySelector('#df-5258c3e0-3ee8-413d-b69e-50ceafaccfac button.colab-df-convert');\n",
              "        buttonEl.style.display =\n",
              "          google.colab.kernel.accessAllowed ? 'block' : 'none';\n",
              "\n",
              "        async function convertToInteractive(key) {\n",
              "          const element = document.querySelector('#df-5258c3e0-3ee8-413d-b69e-50ceafaccfac');\n",
              "          const dataTable =\n",
              "            await google.colab.kernel.invokeFunction('convertToInteractive',\n",
              "                                                     [key], {});\n",
              "          if (!dataTable) return;\n",
              "\n",
              "          const docLinkHtml = 'Like what you see? Visit the ' +\n",
              "            '<a target=\"_blank\" href=https://colab.research.google.com/notebooks/data_table.ipynb>data table notebook</a>'\n",
              "            + ' to learn more about interactive tables.';\n",
              "          element.innerHTML = '';\n",
              "          dataTable['output_type'] = 'display_data';\n",
              "          await google.colab.output.renderOutput(dataTable, element);\n",
              "          const docLink = document.createElement('div');\n",
              "          docLink.innerHTML = docLinkHtml;\n",
              "          element.appendChild(docLink);\n",
              "        }\n",
              "      </script>\n",
              "    </div>\n",
              "  </div>\n",
              "  "
            ]
          },
          "metadata": {},
          "execution_count": 107
        }
      ]
    },
    {
      "cell_type": "code",
      "source": [
        "import seaborn as sns\n",
        "\n",
        "plt.figure(figsize=(25,8)) \n",
        "grafica = sns.barplot(data=inmuebles_precio_area.head(20), x='Barrio', y='Valor_m2')\n",
        "\n",
        "grafica.set_title('Los 20 barrios más costosos de Bogotá en valor por metro cuadrado',fontsize=16, fontstyle='italic', fontweight='bold') \n",
        "plt.xlabel('Barrio', fontsize=14,labelpad=10,fontstyle='italic', color='darkgreen',fontweight='bold')\n",
        "plt.ylabel('Valor_m2', fontsize=14,labelpad=10,fontstyle='italic', color='darkgreen',fontweight='bold')\n",
        "plt.ylim((0,10))\n",
        "\n",
        "plt.show()"
      ],
      "metadata": {
        "colab": {
          "base_uri": "https://localhost:8080/",
          "height": 452
        },
        "id": "0Fl42NgXVorZ",
        "outputId": "a72c129b-a150-414d-dfda-5bef3ce4bb65"
      },
      "execution_count": 108,
      "outputs": [
        {
          "output_type": "display_data",
          "data": {
            "text/plain": [
              "<Figure size 1800x576 with 1 Axes>"
            ],
            "image/png": "[encoded data removed]"
          },
          "metadata": {
            "needs_background": "light"
          }
        }
      ]
    },
    {
      "cell_type": "markdown",
      "source": [
        "Con este grafico podemos conocer los barrios mas costosos en Bogota, esto teniendo en cuenta el valor del m2. Además, este gráfico también nos permite identificar patrones y tendencias en el mercado inmobiliario de Bogotá, como por ejemplo, si existen ciertas zonas de la ciudad que tienden a tener un valor por metro cuadrado más elevado que otras. Asimismo, puede ser de gran utilidad para aquellos que buscan comprar o alquilar una propiedad en la ciudad, ya que les permite conocer cuáles son los barrios que tienen un valor por metro cuadrado más alto y tomar decisiones informadas en cuanto a su presupuesto y preferencias. En definitiva, este gráfico es una herramienta valiosa para entender mejor el mercado inmobiliario en Bogotá y tomar decisiones más acertadas en cuanto a la compra o alquiler de una propiedad.\n",
        "\n",
        "\n",
        "\n"
      ],
      "metadata": {
        "id": "teW1eZrIhWW6"
      }
    }
  ]
}